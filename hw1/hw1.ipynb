{
 "cells": [
  {
   "cell_type": "markdown",
   "metadata": {},
   "source": [
    "# HW 1: Web log data wrangling\n",
    "\n",
    "Please also refer to the HW1 [README](https://github.com/berkeley-cs186/course/tree/master/hw1) for the full assignment details.\n",
    "\n",
    "--------------------------------------------\n",
    "\n",
    "## Introduction\n",
    "\n",
    "### Jupyter Notebooks w/ iPython\n",
    "\n",
    "Jupyter Notebook is a web-based interactive computing system, which allow you to mix code and rich-text in one document. A notebook consists of a sequence of cells, which can be run using the \"Play\" button in the toolbar or by hitting Shift-Enter on the keyboard.\n",
    "\n",
    "In HW1, you will primarily use code cells with iPython code. You can find a tour and pointers to more documentation in the `Help` menu above.\n"
   ]
  },
  {
   "cell_type": "markdown",
   "metadata": {},
   "source": [
    "### The dataset\n",
    "\n",
    "Let's take a look at the data. These web logs were produced by an Apache web server. Each line represents a request to the server that originally hosted an early viral video from 2002."
   ]
  },
  {
   "cell_type": "code",
   "execution_count": 300,
   "metadata": {
    "collapsed": false
   },
   "outputs": [],
   "source": [
    "import os\n",
    "DATA_DIR = os.environ['MASTERDIR'] + '/sp16/hw1/'"
   ]
  },
  {
   "cell_type": "code",
   "execution_count": 301,
   "metadata": {
    "collapsed": false
   },
   "outputs": [
    {
     "name": "stdout",
     "output_type": "stream",
     "text": [
      "62.172.72.131 - - [02/Jan/2003:02:06:41 -0700] \"GET /random/html/riaa_hacked/ HTTP/1.0\" 200 10564 \"-\" \"Mozilla/4.0 (compatible; MSIE 5.5; Windows NT 4.0; WWP 17 August 2001)\"\n",
      "\n"
     ]
    }
   ],
   "source": [
    "with open(DATA_DIR + \"web_log_small.log\") as log_file:\n",
    "    sample_line = log_file.readline()\n",
    "\n",
    "print sample_line"
   ]
  },
  {
   "cell_type": "markdown",
   "metadata": {},
   "source": [
    "This format is called \"Combined Log Format\", and you can find a description of each of the fields [here](https://httpd.apache.org/docs/1.3/logs.html#common)."
   ]
  },
  {
   "cell_type": "markdown",
   "metadata": {},
   "source": [
    "Here's another way to view the first line of the dataset. We can run a shell command using [`! operator`](https://ipython.org/ipython-doc/3/interactive/reference.html#system-shell-access) (a feature of iPython). "
   ]
  },
  {
   "cell_type": "code",
   "execution_count": 302,
   "metadata": {
    "collapsed": false
   },
   "outputs": [
    {
     "name": "stdout",
     "output_type": "stream",
     "text": [
      "62.172.72.131 - - [02/Jan/2003:02:06:41 -0700] \"GET /random/html/riaa_hacked/ HTTP/1.0\" 200 10564 \"-\" \"Mozilla/4.0 (compatible; MSIE 5.5; Windows NT 4.0; WWP 17 August 2001)\"\r\n"
     ]
    }
   ],
   "source": [
    "!head -1 {DATA_DIR}web_log_small.log"
   ]
  },
  {
   "cell_type": "markdown",
   "metadata": {
    "collapsed": true
   },
   "source": [
    "-----------\n",
    "\n",
    "## Your Assignment\n",
    "\n",
    "Fill in the `process_logs` function below to complete the specification in the README. You can add any helper functions you need. You may use any of Python 2's standard libraries available on the instructional machines. You cannot use (and shouldn't need) any external libraries.\n",
    "\n",
    "Remember, you need to ensure that your code will scale to datasets that are bigger than memory -- no matter how large or skewed the dataset or how much memory is on your test machine.  Avoid keeping data structures of unbounded size in memory, since it **won't** scale, e.g.: \n",
    "\n",
    "- having a list of every line in the dataset\n",
    "- having a dictionary with an key for every IP address\n",
    "\n",
    "Finally, to ensure proper grading, please make sure all of your log processing code (including `import` statements) is between the **BEGIN/END STUDENT CODE** cells. Do not modify or remove either of these cells."
   ]
  },
  {
   "cell_type": "markdown",
   "metadata": {},
   "source": [
    "### * BEGIN STUDENT CODE *"
   ]
  },
  {
   "cell_type": "code",
   "execution_count": 303,
   "metadata": {
    "collapsed": false
   },
   "outputs": [],
   "source": [
    "import apachetime\n",
    "import time\n",
    "\n",
    "def apache_ts_to_unixtime(ts):\n",
    "    \"\"\"\n",
    "    @param ts - a Apache timestamp string, e.g. '[02/Jan/2003:02:06:41 -0700]'\n",
    "    @returns int - a Unix timestamp in seconds\n",
    "    \"\"\"\n",
    "    dt = apachetime.apachetime(ts)\n",
    "    unixtime = time.mktime(dt.timetuple())\n",
    "    return int(unixtime)"
   ]
  },
  {
   "cell_type": "code",
   "execution_count": 304,
   "metadata": {
    "collapsed": false
   },
   "outputs": [],
   "source": [
    "def process_logs(dataset_iter):\n",
    "    \"\"\"\n",
    "    Processes the input stream, and outputs the CSV files described in the README.    \n",
    "    This is the main entry point for your assignment.\n",
    "    \n",
    "    @param dataset_iter - an iterator of Apache log lines.\n",
    "    \"\"\"\n",
    "    # Prepare hits.csv\n",
    "    with open(\"hits.csv\", \"w+\") as hits_file:\n",
    "        hits_file.write('ip,timestamp\\n')\n",
    "        \n",
    "        #parse each line from the data set to get ip and timestamp, then write to hits.csv\n",
    "        for i, line in enumerate(dataset_iter):\n",
    "            temp = line.split(\" \")\n",
    "            hits_file.write(temp[0] + ',' + str(apache_ts_to_unixtime(temp[3] + \" \" + temp[4])) + '\\n')\n",
    "    \n",
    "    # Prepare sessions.csv  \n",
    "    #sort hits.csv first by first col, then second col, store in a temp file\n",
    "    !sort -k 1,1n -k 2,2n {\"hits.csv\"} > {\"temp\"}\n",
    "    #dummy line for last line to get read\n",
    "    !echo {\"a,1\"} >> {\"temp\"}\n",
    "    \n",
    "    #write to sessions.csv, go one by one, if there is a difference in the second column of > 30 min\n",
    "    #write the same ip as a new session. also write a counter for number of same session ips (num_hits)\n",
    "    #and for session_length\n",
    "    with open(\"sessions.csv\", \"w+\") as sessions_file:\n",
    "        sessions_file.write('ip,session_length,num_hits\\n')\n",
    "        with open(\"temp\", \"r\") as temp_fin:\n",
    "            start_ip = \"\"\n",
    "            prev_ip = \"\"\n",
    "            curr_ip = \"\"\n",
    "            start_time = 0\n",
    "            prev_time = 0\n",
    "            curr_time = 0\n",
    "            \n",
    "            session_length = 0\n",
    "            num_hits = 0\n",
    "            \n",
    "            next(temp_fin)\n",
    "            for line in temp_fin:\n",
    "                tok = line.split(\",\")\n",
    "                curr_ip = tok[0]\n",
    "                curr_time = int(tok[1])\n",
    "                \n",
    "                if start_ip == \"\":\n",
    "                    start_ip = curr_ip\n",
    "                    start_time = curr_time\n",
    "                    prev_ip = curr_ip\n",
    "                    prev_time = curr_time\n",
    "                    session_length = 0\n",
    "                    num_hits += 1\n",
    "                    continue\n",
    "                elif curr_ip != prev_ip or curr_time - prev_time > 1800:\n",
    "                    sessions_file.write(prev_ip + \",\" + str(session_length) + \",\" + str(num_hits) + \"\\n\")\n",
    "                    start_ip = curr_ip\n",
    "                    start_time = curr_time\n",
    "                    prev_ip = curr_ip\n",
    "                    prev_time = curr_time\n",
    "                    session_length = 0\n",
    "                    num_hits = 1\n",
    "                    continue\n",
    "                prev_ip = curr_ip\n",
    "                prev_time = curr_time\n",
    "                num_hits += 1\n",
    "                session_length = curr_time - start_time \n",
    "    \n",
    "    # Prepare session_length_plot.csv\n",
    "    \n",
    "    #sort sessions.csv by session length\n",
    "    !tail -n +2 sessions.csv | sort -t\",\" -k 2,2n > {\"temp2\"}\n",
    "    !echo {\"ignore\"} >> {\"temp2\"}\n",
    "    with open(\"session_length_plot.csv\", \"w+\") as session_length_plot:\n",
    "        session_length_plot.write(\"left,right,count\\n\")\n",
    "        with open(\"temp2\", \"r\") as fin:\n",
    "            next(fin)\n",
    "        \n",
    "            start = 0\n",
    "            end = 2\n",
    "            session_length_count = 1\n",
    "            session_length = 0\n",
    "            for line in fin:\n",
    "                if line == \"ignore\\n\":\n",
    "                    session_length_plot.write(str(start) + \",\" + str(end) + \",\" + str(session_length_count) + \"\\n\")\n",
    "                    break\n",
    "                tok = line.split(\",\")\n",
    "                session_length = int(tok[1])\n",
    "                if session_length >= start and session_length < end:\n",
    "                    session_length_count += 1\n",
    "                else:\n",
    "                    session_length_plot.write(str(start) + \",\" + str(end) + \",\" + str(session_length_count) + \"\\n\")\n",
    "                    while not (session_length >= start and session_length < end):\n",
    "                        start = end\n",
    "                        end *= 2\n",
    "                    \n",
    "                    session_length_count = 1\n",
    "    \n",
    "    #remove temp files\n",
    "    !rm {\"temp\"}\n",
    "    !rm {\"temp2\"}\n",
    "    \n",
    "    print \"Done.\""
   ]
  },
  {
   "cell_type": "markdown",
   "metadata": {},
   "source": [
    "### * END STUDENT CODE *\n",
    "\n",
    "------------------------\n"
   ]
  },
  {
   "cell_type": "code",
   "execution_count": 305,
   "metadata": {
    "collapsed": false,
    "scrolled": true
   },
   "outputs": [],
   "source": [
    "def process_logs_small():\n",
    "    \"\"\"\n",
    "    Runs the process_logs function with the small dataset (186 MB).\n",
    "    \"\"\"        \n",
    "    with open(DATA_DIR + \"web_log_small.log\") as log_file:\n",
    "        process_logs(log_file)"
   ]
  },
  {
   "cell_type": "code",
   "execution_count": 306,
   "metadata": {
    "collapsed": false
   },
   "outputs": [
    {
     "name": "stdout",
     "output_type": "stream",
     "text": [
      "Done.\n",
      "CPU times: user 12 s, sys: 388 ms, total: 12.4 s\n",
      "Wall time: 14.3 s\n"
     ]
    }
   ],
   "source": [
    "%time process_logs_small()"
   ]
  },
  {
   "cell_type": "code",
   "execution_count": 307,
   "metadata": {
    "collapsed": false
   },
   "outputs": [],
   "source": [
    "import zipfile\n",
    "\n",
    "def process_logs_large():\n",
    "    \"\"\"\n",
    "    Runs the process_logs function on the full dataset.  The code below \n",
    "    performs a streaming unzip of the compressed dataset which is (158MB). \n",
    "    This saves the 1.6GB of disk space needed to unzip this file onto disk.\n",
    "    \"\"\"\n",
    "    with zipfile.ZipFile(DATA_DIR + \"web_log_large.zip\") as z:\n",
    "        fname = z.filelist[0].filename\n",
    "        f = z.open(fname)\n",
    "        process_logs(f)\n",
    "        f.close()"
   ]
  },
  {
   "cell_type": "code",
   "execution_count": 308,
   "metadata": {
    "collapsed": false
   },
   "outputs": [
    {
     "name": "stdout",
     "output_type": "stream",
     "text": [
      "Done.\n",
      "CPU times: user 2min 6s, sys: 2.99 s, total: 2min 9s\n",
      "Wall time: 2min 21s\n"
     ]
    }
   ],
   "source": [
    "%time process_logs_large()"
   ]
  },
  {
   "cell_type": "markdown",
   "metadata": {
    "collapsed": true
   },
   "source": [
    "---------------\n",
    "\n",
    "# Testing"
   ]
  },
  {
   "cell_type": "markdown",
   "metadata": {},
   "source": [
    "As mentioned in the README, we provide reference output only for the small dataset. `diff_outputs()` produces a `.diff` files if there's a difference between your output and the referrence output.\n",
    "\n",
    "If you're unfamiliar with the format of `diff`'s output, you can read about it [here](https://en.wikipedia.org/wiki/Diff_utility#Usage).\n",
    "\n",
    "There are other diff utilities which produce colored/side-by-side output, making it easier to see differences. If you're interested, try:\n",
    "\n",
    "```\n",
    "$ vimdiff hits.csv ~cs186/sp16/hw1/ref_output_small/hits.csv\n",
    "OR\n",
    "$ git diff hits.csv ~cs186/sp16/hw1/ref_output_small/hits.csv\n",
    "```"
   ]
  },
  {
   "cell_type": "code",
   "execution_count": 309,
   "metadata": {
    "collapsed": false
   },
   "outputs": [],
   "source": [
    "import os\n",
    "\n",
    "ref_output_dir = DATA_DIR + \"ref_output_small/\"\n",
    "\n",
    "def _diff_helper(f, unordered=False):\n",
    "    \"\"\"\n",
    "    @param f (str) - filename to diff with reference output\n",
    "    @param unordered (bool) - whether the ordering of the lines matters\n",
    "    \"\"\"\n",
    "    if not os.path.isfile(f):\n",
    "        print \"FAIL - {} does not exist.\".format(f)\n",
    "        return\n",
    "    \n",
    "    if unordered:\n",
    "        tmp1 = !mktemp\n",
    "        tmp1 = tmp1[0]\n",
    "        !sort {f} > {tmp1}\n",
    "        !sort {ref_output_dir + f} | diff {tmp1} - > {f}.diff\n",
    "    else:\n",
    "        !diff {f} {ref_output_dir + f} > {f}.diff\n",
    "    \n",
    "    success = _exit_code == 0\n",
    "    if success:\n",
    "        !rm {f}.diff\n",
    "        print \"PASS - {} matched reference output.\".format(f)\n",
    "    else:\n",
    "        print \"FAIL - {} did not match reference output. See {}.diff.\".format(f, f)\n",
    "        \n",
    "\n",
    "def diff_against_reference():\n",
    "    \"\"\"\n",
    "    Compares the output files in the current directory with the reference output.\n",
    "    If there is a difference, writes a \".diff\" file, e.g. hits.csv.diff.\n",
    "    \"\"\" \n",
    "    _diff_helper(\"hits.csv\")\n",
    "    _diff_helper(\"sessions.csv\", unordered=True)\n",
    "    _diff_helper(\"session_length_plot.csv\")"
   ]
  },
  {
   "cell_type": "code",
   "execution_count": 310,
   "metadata": {
    "collapsed": false
   },
   "outputs": [
    {
     "name": "stdout",
     "output_type": "stream",
     "text": [
      "Done.\n",
      "PASS - hits.csv matched reference output.\n",
      "PASS - sessions.csv matched reference output.\n",
      "PASS - session_length_plot.csv matched reference output.\n"
     ]
    }
   ],
   "source": [
    "process_logs_small()\n",
    "diff_against_reference()"
   ]
  },
  {
   "cell_type": "markdown",
   "metadata": {},
   "source": [
    "\n",
    "### Testing Memory Usage\n",
    "\n",
    "For additional testing, we've included a script which:\n",
    " - (1) makes sure all of your log processing code is between the BEGIN/END STUDENT CODE CELLS above, so it will work with our autograder\n",
    " - (2) runs your code with a memory cap of 1MB. If you see a `MemoryError`, it's a sign your code is not doing appropriate streaming and/or divide-and-conquer!\n",
    " \n",
    "Make sure to save your notebook (`File > Save and Checkpoint`) before running the next cell."
   ]
  },
  {
   "cell_type": "code",
   "execution_count": 311,
   "metadata": {
    "collapsed": false
   },
   "outputs": [
    {
     "name": "stdout",
     "output_type": "stream",
     "text": [
      "[NbConvertApp] Converting notebook hw1.ipynb to python\n",
      "Running process_logs_large()\n",
      "Done.\n",
      "Memory Test Done.\n"
     ]
    }
   ],
   "source": [
    "!bash test_memory_usage.sh"
   ]
  }
 ],
 "metadata": {
  "kernelspec": {
   "display_name": "Python 2",
   "language": "python",
   "name": "python2"
  },
  "language_info": {
   "codemirror_mode": {
    "name": "ipython",
    "version": 2
   },
   "file_extension": ".py",
   "mimetype": "text/x-python",
   "name": "python",
   "nbconvert_exporter": "python",
   "pygments_lexer": "ipython2",
   "version": "2.7.11"
  }
 },
 "nbformat": 4,
 "nbformat_minor": 0
}
